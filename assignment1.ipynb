{
 "cells": [
  {
   "cell_type": "code",
   "execution_count": null,
   "metadata": {},
   "outputs": [],
   "source": [
    "# Assignment 1\n",
    "# Program som beregner de årlige totalkostnadene for elbil og bensinbil, samt en kostnadsdifferanse.\n",
    "\n",
    "# Setter opp variabler som skal benyttes i programmet.\n",
    "# Benytter prefiks E_ for variabler som er spesifikke for Elbil, og prefiks B_ for variabler som er spesifikk for Bensinbil.\n",
    "# Variabler som er felles vil starte med en liten bokstav.\n",
    "\n",
    "# Bruker 365 dager i året for hele programmet.\n",
    "antallDagerPrAar = 365\n",
    "\n",
    "# Atall kjørte kilometer per år.\n",
    "totaltKmPrAar = 10000\n",
    "\n",
    "# Årlige summen i kroner\n",
    "E_forsikring = 5000\n",
    "B_forsikring = 7500\n",
    "\n",
    "# Daglig sum i kroner\n",
    "trafikkForsikringsAvgift = 8.38\n",
    "\n",
    "# Viser kWh pr kilometer\n",
    "E_drivstoffbruk = 0.2\n",
    "# Viser sum i kroner for å lade 1 kWh\n",
    "E_strømpris = 2\n",
    "\n",
    "# Viser sum i kroner for å kjøre 1 km\n",
    "B_drivstoffbruk = 1\n",
    "\n",
    "# Viser sum i kroner pr km man må betale i bomavgift\n",
    "E_bomavgift = 0.1\n",
    "B_bomavgift = 0.3\n",
    "\n",
    "print(\"Variabler er satt opp. Klar til å kjøre beregninger og sammenligninger\")"
   ]
  },
  {
   "cell_type": "code",
   "execution_count": null,
   "metadata": {},
   "outputs": [],
   "source": [
    "print(\"Beregner de årlige totalkostnadene for elbil og bensinbil ved å kjøre:\", totaltKmPrAar, \"kilometer\")\n",
    "\n",
    "# Felles\n",
    "trafikkForsikringsAvgiftPerAar = antallDagerPrAar * trafikkForsikringsAvgift\n",
    "\n",
    "# Beregner totalkostnaden for elbil\n",
    "E_drivstoffbrukPerAar = totaltKmPrAar * E_drivstoffbruk * E_strømpris\n",
    "E_bomavgiftPerAar = E_bomavgift * totaltKmPrAar\n",
    "\n",
    "E_totalkostnad = E_forsikring + trafikkForsikringsAvgiftPerAar + E_drivstoffbrukPerAar + E_bomavgiftPerAar\n",
    "\n",
    "print(\"Den årlige totalkostnaden for elbil i kroner: \", E_totalkostnad)\n",
    "\n",
    "# Beregner totalkostnaden for bensinbil\n",
    "B_drivstoffbrukPerAar = B_drivstoffbruk * totaltKmPrAar\n",
    "B_bomavgiftPerAar = B_bomavgift * totaltKmPrAar\n",
    "\n",
    "B_totalkostnad = B_forsikring + trafikkForsikringsAvgiftPerAar + B_drivstoffbrukPerAar + B_bomavgiftPerAar\n",
    "\n",
    "print(\"Den årlige totalkostnaden for bensinbil i kroner: \", B_totalkostnad)"
   ]
  },
  {
   "cell_type": "code",
   "execution_count": null,
   "metadata": {},
   "outputs": [],
   "source": [
    "print(\"Sammenligner de årlige totalkostnadene for elbil og bensinbil\")\n",
    "\n",
    "print(\"Totaldifferansen mellom elbil og bensinbil i kroner: \", B_totalkostnad - E_totalkostnad)\n",
    "print(\"Differansen i forsikring i kroner: \", B_forsikring - E_forsikring)\n",
    "print(\"Differansen i drivstoff i kroner: \", B_drivstoffbrukPerAar - E_drivstoffbrukPerAar)\n",
    "print(\"Differansen i bomavgift i kroner: \", B_bomavgiftPerAar - E_bomavgiftPerAar)"
   ]
  }
 ],
 "metadata": {
  "kernelspec": {
   "display_name": "Python 3",
   "language": "python",
   "name": "python3"
  },
  "language_info": {
   "codemirror_mode": {
    "name": "ipython",
    "version": 3
   },
   "file_extension": ".py",
   "mimetype": "text/x-python",
   "name": "python",
   "nbconvert_exporter": "python",
   "pygments_lexer": "ipython3",
   "version": "3.13.0"
  }
 },
 "nbformat": 4,
 "nbformat_minor": 2
}
